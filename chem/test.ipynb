{
 "cells": [
  {
   "cell_type": "code",
   "execution_count": 1,
   "metadata": {},
   "outputs": [],
   "source": [
    "import pandas as pd\n",
    "input_path= '/home/tomorrow/primera_folder/graph/pretrain-gnns/chem/dataset/hiv/raw/HIV.csv'"
   ]
  },
  {
   "cell_type": "code",
   "execution_count": 2,
   "metadata": {},
   "outputs": [],
   "source": [
    "from rdkit.Chem import AllChem\n"
   ]
  },
  {
   "cell_type": "code",
   "execution_count": 4,
   "metadata": {},
   "outputs": [
    {
     "name": "stderr",
     "output_type": "stream",
     "text": [
      "[11:05:33] WARNING: not removing hydrogen atom without neighbors\n",
      "[11:05:33] WARNING: not removing hydrogen atom without neighbors\n"
     ]
    }
   ],
   "source": [
    "input_df = pd.read_csv(input_path, sep=',')\n",
    "smiles_list = input_df['smiles']\n",
    "rdkit_mol_objs_list = [AllChem.MolFromSmiles(s) for s in smiles_list]\n",
    "labels = input_df['HIV_active']\n",
    "# convert 0 to -1\n",
    "labels = labels.replace(0, -1)\n",
    "# there are no nans\n",
    "assert len(smiles_list) == len(rdkit_mol_objs_list)\n",
    "assert len(smiles_list) == len(labels)"
   ]
  },
  {
   "cell_type": "code",
   "execution_count": 8,
   "metadata": {},
   "outputs": [
    {
     "data": {
      "image/png": "[encoded data removed]",
      "text/plain": [
       "<rdkit.Chem.rdchem.Mol at 0x7ff190635b30>"
      ]
     },
     "execution_count": 8,
     "metadata": {},
     "output_type": "execute_result"
    }
   ],
   "source": [
    "rdkit_mol_objs_list[0]"
   ]
  },
  {
   "cell_type": "code",
   "execution_count": 9,
   "metadata": {},
   "outputs": [],
   "source": [
    "import torch"
   ]
  },
  {
   "cell_type": "code",
   "execution_count": 22,
   "metadata": {},
   "outputs": [],
   "source": [
    "data= torch.load('/home/tomorrow/primera_folder/graph/pretrain-gnns/chem/dataset/hiv/processed/geometric_data_processed.pt')"
   ]
  },
  {
   "cell_type": "code",
   "execution_count": 23,
   "metadata": {},
   "outputs": [
    {
     "data": {
      "text/plain": [
       "Data(x=[1049163, 2], edge_index=[2, 2259376], edge_attr=[2259376, 2], id=[41127], y=[41127])"
      ]
     },
     "execution_count": 23,
     "metadata": {},
     "output_type": "execute_result"
    }
   ],
   "source": [
    "data[0]"
   ]
  },
  {
   "cell_type": "code",
   "execution_count": 26,
   "metadata": {},
   "outputs": [
    {
     "data": {
      "text/plain": [
       "(Data(x=[1049163, 2], edge_index=[2, 2259376], edge_attr=[2259376, 2], id=[41127], y=[41127]),\n",
       " {'x': tensor([      0,      19,      58,  ..., 1049093, 1049126, 1049163]),\n",
       "  'edge_index': tensor([      0,      40,     128,  ..., 2259220, 2259296, 2259376]),\n",
       "  'edge_attr': tensor([      0,      40,     128,  ..., 2259220, 2259296, 2259376]),\n",
       "  'id': tensor([    0,     1,     2,  ..., 41125, 41126, 41127]),\n",
       "  'y': tensor([    0,     1,     2,  ..., 41125, 41126, 41127])})"
      ]
     },
     "execution_count": 26,
     "metadata": {},
     "output_type": "execute_result"
    }
   ],
   "source": [
    "data"
   ]
  },
  {
   "cell_type": "code",
   "execution_count": null,
   "metadata": {},
   "outputs": [],
   "source": []
  }
 ],
 "metadata": {
  "kernelspec": {
   "display_name": "gnn2",
   "language": "python",
   "name": "python3"
  },
  "language_info": {
   "codemirror_mode": {
    "name": "ipython",
    "version": 3
   },
   "file_extension": ".py",
   "mimetype": "text/x-python",
   "name": "python",
   "nbconvert_exporter": "python",
   "pygments_lexer": "ipython3",
   "version": "3.8.19"
  }
 },
 "nbformat": 4,
 "nbformat_minor": 2
}
